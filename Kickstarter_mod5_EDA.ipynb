{
  "nbformat": 4,
  "nbformat_minor": 0,
  "metadata": {
    "kernelspec": {
      "display_name": "Python 3",
      "language": "python",
      "name": "python3"
    },
    "language_info": {
      "codemirror_mode": {
        "name": "ipython",
        "version": 3
      },
      "file_extension": ".py",
      "mimetype": "text/x-python",
      "name": "python",
      "nbconvert_exporter": "python",
      "pygments_lexer": "ipython3",
      "version": "3.8.5"
    },
    "colab": {
      "name": "Kickstarter_mod5_EDA.ipynb",
      "provenance": [],
      "collapsed_sections": [
        "-tUs89gAO8I_",
        "pnb8IXwzO8JA",
        "FSbVATqUO8JC",
        "GZmcQA5hO8JH",
        "Gi3fRrvUO8JK"
      ],
      "include_colab_link": true
    }
  },
  "cells": [
    {
      "cell_type": "markdown",
      "metadata": {
        "id": "view-in-github",
        "colab_type": "text"
      },
      "source": [
        "<a href=\"https://colab.research.google.com/github/jimtoberfest/EDAs/blob/main/Kickstarter_mod5_EDA.ipynb\" target=\"_parent\"><img src=\"https://colab.research.google.com/assets/colab-badge.svg\" alt=\"Open In Colab\"/></a>"
      ]
    },
    {
      "cell_type": "markdown",
      "metadata": {
        "id": "kW__uQQ-O8It"
      },
      "source": [
        "## Portfolio Module 5\n",
        "___\n",
        "# Kickstarter Dataset Analysis\n",
        "\n",
        "## Background\n",
        "### Kickstarter is a crowdfunding company that only generates revenue when a project has acheived its target goal fundraising amount.  Therefore, the ability to properly identify and magnify the exposure of successful campaigns is critical to the success of the company. \n",
        "\n",
        "## Dataset\n",
        "### This dataset spans from 2009 to 2019.  \n",
        "### Dataset available from the following link:   [Kickstarter Dataset 2.0](https://www.kaggle.com/yashkantharia/kickstarter-campaigns-dataset-20).\n",
        "\n",
        "\n",
        "#### Note:  Use the toggle below the following codeblock to turn code cells on and off for readability\n",
        "\n",
        "___"
      ]
    },
    {
      "cell_type": "code",
      "metadata": {
        "id": "-gENEjnKO8I1",
        "outputId": "294697b7-b181-4e18-fe5a-984d632051c2"
      },
      "source": [
        "# C:\\Users\\jimgi\\Py_MIS480\\Kickstarter_Campaigns_DataSet.csv\n",
        "\n",
        "from IPython.display import HTML\n",
        "\n",
        "HTML('''<script>\n",
        "code_show=true; \n",
        "function code_toggle() {\n",
        " if (code_show){\n",
        " $('div.input').hide();\n",
        " } else {\n",
        " $('div.input').show();\n",
        " }\n",
        " code_show = !code_show\n",
        "} \n",
        "$( document ).ready(code_toggle);\n",
        "</script>\n",
        "<form action=\"javascript:code_toggle()\"><input type=\"submit\" value=\"Click here to toggle on/off the raw code.\"></form>''')\n"
      ],
      "execution_count": null,
      "outputs": [
        {
          "output_type": "execute_result",
          "data": {
            "text/html": [
              "<script>\n",
              "code_show=true; \n",
              "function code_toggle() {\n",
              " if (code_show){\n",
              " $('div.input').hide();\n",
              " } else {\n",
              " $('div.input').show();\n",
              " }\n",
              " code_show = !code_show\n",
              "} \n",
              "$( document ).ready(code_toggle);\n",
              "</script>\n",
              "<form action=\"javascript:code_toggle()\"><input type=\"submit\" value=\"Click here to toggle on/off the raw code.\"></form>"
            ],
            "text/plain": [
              "<IPython.core.display.HTML object>"
            ]
          },
          "metadata": {
            "tags": []
          },
          "execution_count": 2
        }
      ]
    },
    {
      "cell_type": "code",
      "metadata": {
        "id": "mv3hs9elO8I3"
      },
      "source": [
        "# import packages\n",
        "import math\n",
        "import numpy as np\n",
        "import pandas as pd\n",
        "import matplotlib.pyplot as plt\n",
        "%matplotlib inline\n",
        "from IPython.display import display, HTML, display_html\n",
        "import seaborn as sns\n",
        "import datetime\n",
        "from datetime import datetime\n",
        "from scipy import stats"
      ],
      "execution_count": null,
      "outputs": []
    },
    {
      "cell_type": "code",
      "metadata": {
        "id": "n8VWEQQ3O8I3"
      },
      "source": [
        "# settings for the notebook to make display and reading a little easier\n",
        "\n",
        "# set formatting\n",
        "pd.set_option('display.max_columns', 100)\n",
        "pd.set_option('display.max_rows', 100)\n",
        "pd.options.display.max_colwidth = 100  # makes individual cells larger to read long print entries\n",
        "\n",
        "pd.options.display.float_format = '{:,}'.format  #add commas to large numbers for readability\n",
        "\n",
        "import warnings\n",
        "warnings.simplefilter('ignore') #Stops deprecated code warnings from popping up\n",
        "\n",
        "#Seaborn formatting\n",
        "\n",
        "sns.set_theme(style=\"whitegrid\")"
      ],
      "execution_count": null,
      "outputs": []
    },
    {
      "cell_type": "code",
      "metadata": {
        "id": "rIl5XVnYO8I4"
      },
      "source": [
        "# Reading dataset from Drive or if in Colab selecting the file from your computer\n",
        "\n",
        "# ks_path = r'C:\\Users\\jimgi\\Py_MIS480\\Kickstarter_Campaigns_DataSet.csv'\n",
        "\n",
        "from google.colab import files\n",
        "files.upload()\n",
        "\n",
        "df1 = pd.read_csv(ks_path)"
      ],
      "execution_count": null,
      "outputs": []
    },
    {
      "cell_type": "markdown",
      "metadata": {
        "id": "gV42shkwO8I4"
      },
      "source": [
        "### Generate some basic statistics and metadata about our dataset"
      ]
    },
    {
      "cell_type": "code",
      "metadata": {
        "id": "nDRDTWrrO8I4",
        "outputId": "505256ea-d5fe-49d0-f94b-9c35a4dca471"
      },
      "source": [
        "# basic info\n",
        "\n",
        "print('Numeric Data: ')\n",
        "df1.describe().T"
      ],
      "execution_count": null,
      "outputs": [
        {
          "output_type": "stream",
          "text": [
            "Numeric Data: \n"
          ],
          "name": "stdout"
        },
        {
          "output_type": "execute_result",
          "data": {
            "text/html": [
              "<div>\n",
              "<style scoped>\n",
              "    .dataframe tbody tr th:only-of-type {\n",
              "        vertical-align: middle;\n",
              "    }\n",
              "\n",
              "    .dataframe tbody tr th {\n",
              "        vertical-align: top;\n",
              "    }\n",
              "\n",
              "    .dataframe thead th {\n",
              "        text-align: right;\n",
              "    }\n",
              "</style>\n",
              "<table border=\"1\" class=\"dataframe\">\n",
              "  <thead>\n",
              "    <tr style=\"text-align: right;\">\n",
              "      <th></th>\n",
              "      <th>count</th>\n",
              "      <th>mean</th>\n",
              "      <th>std</th>\n",
              "      <th>min</th>\n",
              "      <th>25%</th>\n",
              "      <th>50%</th>\n",
              "      <th>75%</th>\n",
              "      <th>max</th>\n",
              "    </tr>\n",
              "  </thead>\n",
              "  <tbody>\n",
              "    <tr>\n",
              "      <th>Unnamed: 0</th>\n",
              "      <td>207,839.0</td>\n",
              "      <td>103,923.44139935238</td>\n",
              "      <td>60,000.93843738334</td>\n",
              "      <td>0.0</td>\n",
              "      <td>51,961.5</td>\n",
              "      <td>103,923.0</td>\n",
              "      <td>155,885.5</td>\n",
              "      <td>207,847.0</td>\n",
              "    </tr>\n",
              "    <tr>\n",
              "      <th>id</th>\n",
              "      <td>207,839.0</td>\n",
              "      <td>1,073,131,711.6691862</td>\n",
              "      <td>619,529,030.6448271</td>\n",
              "      <td>8,624.0</td>\n",
              "      <td>534,997,551.0</td>\n",
              "      <td>1,075,616,930.0</td>\n",
              "      <td>1,608,411,170.0</td>\n",
              "      <td>2,147,476,221.0</td>\n",
              "    </tr>\n",
              "    <tr>\n",
              "      <th>backers_count</th>\n",
              "      <td>207,839.0</td>\n",
              "      <td>148.1850567025438</td>\n",
              "      <td>890.4241185124322</td>\n",
              "      <td>0.0</td>\n",
              "      <td>4.0</td>\n",
              "      <td>27.0</td>\n",
              "      <td>89.0</td>\n",
              "      <td>105,857.0</td>\n",
              "    </tr>\n",
              "    <tr>\n",
              "      <th>usd_pledged</th>\n",
              "      <td>207,839.0</td>\n",
              "      <td>13,190.163647742374</td>\n",
              "      <td>89,313.1197797129</td>\n",
              "      <td>0.0</td>\n",
              "      <td>105.0</td>\n",
              "      <td>1,547.0</td>\n",
              "      <td>6,646.0</td>\n",
              "      <td>8,596,474.58</td>\n",
              "    </tr>\n",
              "    <tr>\n",
              "      <th>creator_id</th>\n",
              "      <td>207,839.0</td>\n",
              "      <td>1,073,981,743.8531075</td>\n",
              "      <td>620,294,882.9147277</td>\n",
              "      <td>3.0</td>\n",
              "      <td>536,674,048.5</td>\n",
              "      <td>1,072,811,192.0</td>\n",
              "      <td>1,611,959,439.0</td>\n",
              "      <td>2,147,483,434.0</td>\n",
              "    </tr>\n",
              "    <tr>\n",
              "      <th>blurb_length</th>\n",
              "      <td>207,839.0</td>\n",
              "      <td>112.36637493444445</td>\n",
              "      <td>26.688985372300728</td>\n",
              "      <td>1.0</td>\n",
              "      <td>101.0</td>\n",
              "      <td>124.0</td>\n",
              "      <td>132.0</td>\n",
              "      <td>196.0</td>\n",
              "    </tr>\n",
              "    <tr>\n",
              "      <th>goal_usd</th>\n",
              "      <td>207,839.0</td>\n",
              "      <td>40,393.119838094935</td>\n",
              "      <td>1,096,046.2103080165</td>\n",
              "      <td>0.01</td>\n",
              "      <td>1,500.0</td>\n",
              "      <td>5,000.0</td>\n",
              "      <td>12,856.7921</td>\n",
              "      <td>128,567,921.0</td>\n",
              "    </tr>\n",
              "    <tr>\n",
              "      <th>duration</th>\n",
              "      <td>207,839.0</td>\n",
              "      <td>32.676735357656646</td>\n",
              "      <td>11.812612014633515</td>\n",
              "      <td>1.0</td>\n",
              "      <td>30.0</td>\n",
              "      <td>30.0</td>\n",
              "      <td>35.0</td>\n",
              "      <td>93.0</td>\n",
              "    </tr>\n",
              "  </tbody>\n",
              "</table>\n",
              "</div>"
            ],
            "text/plain": [
              "                  count                  mean                  std     min  \\\n",
              "Unnamed: 0    207,839.0   103,923.44139935238   60,000.93843738334     0.0   \n",
              "id            207,839.0 1,073,131,711.6691862  619,529,030.6448271 8,624.0   \n",
              "backers_count 207,839.0     148.1850567025438    890.4241185124322     0.0   \n",
              "usd_pledged   207,839.0   13,190.163647742374    89,313.1197797129     0.0   \n",
              "creator_id    207,839.0 1,073,981,743.8531075  620,294,882.9147277     3.0   \n",
              "blurb_length  207,839.0    112.36637493444445   26.688985372300728     1.0   \n",
              "goal_usd      207,839.0   40,393.119838094935 1,096,046.2103080165    0.01   \n",
              "duration      207,839.0    32.676735357656646   11.812612014633515     1.0   \n",
              "\n",
              "                        25%             50%             75%             max  \n",
              "Unnamed: 0         51,961.5       103,923.0       155,885.5       207,847.0  \n",
              "id            534,997,551.0 1,075,616,930.0 1,608,411,170.0 2,147,476,221.0  \n",
              "backers_count           4.0            27.0            89.0       105,857.0  \n",
              "usd_pledged           105.0         1,547.0         6,646.0    8,596,474.58  \n",
              "creator_id    536,674,048.5 1,072,811,192.0 1,611,959,439.0 2,147,483,434.0  \n",
              "blurb_length          101.0           124.0           132.0           196.0  \n",
              "goal_usd            1,500.0         5,000.0     12,856.7921   128,567,921.0  \n",
              "duration               30.0            30.0            35.0            93.0  "
            ]
          },
          "metadata": {
            "tags": []
          },
          "execution_count": 6
        }
      ]
    },
    {
      "cell_type": "code",
      "metadata": {
        "id": "wmYt2OnTO8I5",
        "outputId": "79554096-043d-4d5a-8a0a-0ab3109bb08c"
      },
      "source": [
        "#checking for missing values and datatypes\n",
        "\n",
        "df1.info()"
      ],
      "execution_count": null,
      "outputs": [
        {
          "output_type": "stream",
          "text": [
            "<class 'pandas.core.frame.DataFrame'>\n",
            "RangeIndex: 207839 entries, 0 to 207838\n",
            "Data columns (total 18 columns):\n",
            " #   Column         Non-Null Count   Dtype  \n",
            "---  ------         --------------   -----  \n",
            " 0   Unnamed: 0     207839 non-null  int64  \n",
            " 1   id             207839 non-null  int64  \n",
            " 2   name           207839 non-null  object \n",
            " 3   currency       207839 non-null  object \n",
            " 4   launched_at    207839 non-null  object \n",
            " 5   backers_count  207839 non-null  int64  \n",
            " 6   blurb          207839 non-null  object \n",
            " 7   country        207839 non-null  object \n",
            " 8   deadline       207839 non-null  object \n",
            " 9   status         207839 non-null  object \n",
            " 10  usd_pledged    207839 non-null  float64\n",
            " 11  sub_category   207839 non-null  object \n",
            " 12  main_category  207839 non-null  object \n",
            " 13  creator_id     207839 non-null  int64  \n",
            " 14  blurb_length   207839 non-null  int64  \n",
            " 15  goal_usd       207839 non-null  float64\n",
            " 16  city           207839 non-null  object \n",
            " 17  duration       207839 non-null  int64  \n",
            "dtypes: float64(2), int64(6), object(10)\n",
            "memory usage: 28.5+ MB\n"
          ],
          "name": "stdout"
        }
      ]
    },
    {
      "cell_type": "markdown",
      "metadata": {
        "id": "1lyW2WdYO8I5"
      },
      "source": [
        "\n",
        "### Can see date based data such as launched_at and deadline are not in as datetime format and in as objects.\n",
        "### We can see however, that 207,839 non-null rows matches the total count above so there does not appear to be missing data.\n",
        "\n",
        "### Looking at a couple rows of data to get a feel for the dataset:\n"
      ]
    },
    {
      "cell_type": "code",
      "metadata": {
        "id": "I-9Al6s5O8I6",
        "outputId": "59cc76ba-629b-4a81-8f34-5c7444691a5d"
      },
      "source": [
        "\n",
        "df1.head(2)"
      ],
      "execution_count": null,
      "outputs": [
        {
          "output_type": "execute_result",
          "data": {
            "text/html": [
              "<div>\n",
              "<style scoped>\n",
              "    .dataframe tbody tr th:only-of-type {\n",
              "        vertical-align: middle;\n",
              "    }\n",
              "\n",
              "    .dataframe tbody tr th {\n",
              "        vertical-align: top;\n",
              "    }\n",
              "\n",
              "    .dataframe thead th {\n",
              "        text-align: right;\n",
              "    }\n",
              "</style>\n",
              "<table border=\"1\" class=\"dataframe\">\n",
              "  <thead>\n",
              "    <tr style=\"text-align: right;\">\n",
              "      <th></th>\n",
              "      <th>Unnamed: 0</th>\n",
              "      <th>id</th>\n",
              "      <th>name</th>\n",
              "      <th>currency</th>\n",
              "      <th>launched_at</th>\n",
              "      <th>backers_count</th>\n",
              "      <th>blurb</th>\n",
              "      <th>country</th>\n",
              "      <th>deadline</th>\n",
              "      <th>status</th>\n",
              "      <th>usd_pledged</th>\n",
              "      <th>sub_category</th>\n",
              "      <th>main_category</th>\n",
              "      <th>creator_id</th>\n",
              "      <th>blurb_length</th>\n",
              "      <th>goal_usd</th>\n",
              "      <th>city</th>\n",
              "      <th>duration</th>\n",
              "    </tr>\n",
              "  </thead>\n",
              "  <tbody>\n",
              "    <tr>\n",
              "      <th>0</th>\n",
              "      <td>0</td>\n",
              "      <td>1504859185</td>\n",
              "      <td>Industrial Bamboo Table</td>\n",
              "      <td>USD</td>\n",
              "      <td>11/5/2016 18:42</td>\n",
              "      <td>1</td>\n",
              "      <td>An eco-friendly coffee table that is both functional and beautiful. This table will be long last...</td>\n",
              "      <td>US</td>\n",
              "      <td>12/5/2016 19:42</td>\n",
              "      <td>failed</td>\n",
              "      <td>240.0</td>\n",
              "      <td>crafts</td>\n",
              "      <td>Woodworking</td>\n",
              "      <td>983022919</td>\n",
              "      <td>127</td>\n",
              "      <td>5,000.0</td>\n",
              "      <td>Austin</td>\n",
              "      <td>30</td>\n",
              "    </tr>\n",
              "    <tr>\n",
              "      <th>1</th>\n",
              "      <td>1</td>\n",
              "      <td>49266114</td>\n",
              "      <td>Custom Pet Portraits on Canvas- \"From Pixels to Paint\"</td>\n",
              "      <td>CAD</td>\n",
              "      <td>7/21/2015 12:00</td>\n",
              "      <td>3</td>\n",
              "      <td>We take digital uploads and make them handpainted masterpieces. Help us offer unique keepsakes t...</td>\n",
              "      <td>CA</td>\n",
              "      <td>8/24/2015 12:00</td>\n",
              "      <td>failed</td>\n",
              "      <td>247.9501752</td>\n",
              "      <td>art</td>\n",
              "      <td>Painting</td>\n",
              "      <td>101531536</td>\n",
              "      <td>123</td>\n",
              "      <td>753.7465</td>\n",
              "      <td>London</td>\n",
              "      <td>34</td>\n",
              "    </tr>\n",
              "  </tbody>\n",
              "</table>\n",
              "</div>"
            ],
            "text/plain": [
              "   Unnamed: 0          id  \\\n",
              "0           0  1504859185   \n",
              "1           1    49266114   \n",
              "\n",
              "                                                     name currency  \\\n",
              "0                                 Industrial Bamboo Table      USD   \n",
              "1  Custom Pet Portraits on Canvas- \"From Pixels to Paint\"      CAD   \n",
              "\n",
              "       launched_at  backers_count  \\\n",
              "0  11/5/2016 18:42              1   \n",
              "1  7/21/2015 12:00              3   \n",
              "\n",
              "                                                                                                 blurb  \\\n",
              "0  An eco-friendly coffee table that is both functional and beautiful. This table will be long last...   \n",
              "1  We take digital uploads and make them handpainted masterpieces. Help us offer unique keepsakes t...   \n",
              "\n",
              "  country         deadline  status  usd_pledged sub_category main_category  \\\n",
              "0      US  12/5/2016 19:42  failed        240.0       crafts   Woodworking   \n",
              "1      CA  8/24/2015 12:00  failed  247.9501752          art      Painting   \n",
              "\n",
              "   creator_id  blurb_length  goal_usd    city  duration  \n",
              "0   983022919           127   5,000.0  Austin        30  \n",
              "1   101531536           123  753.7465  London        34  "
            ]
          },
          "metadata": {
            "tags": []
          },
          "execution_count": 8
        }
      ]
    },
    {
      "cell_type": "markdown",
      "metadata": {
        "id": "KX_V7_ojO8I6"
      },
      "source": [
        "### Need to convert 'launched_at' and 'deadline' to datetime objects for analysis"
      ]
    },
    {
      "cell_type": "code",
      "metadata": {
        "id": "KcTKOoclO8I7",
        "outputId": "8b61eff5-239e-4ca7-cda2-b864f07faed0"
      },
      "source": [
        "# Converting launched at and deadline to datetime objects to make time series analysis easier if necessary\n",
        "\n",
        "df1['launched_at'] =  pd.to_datetime(df1['launched_at'])\n",
        "df1['deadline'] =  pd.to_datetime(df1['deadline'])\n",
        "df1['is_project'] = 1\n",
        "df1['is_succ'] = df1['status'].apply(lambda x: 1 if x == 'successful' else 0) \n",
        "\n",
        "\n",
        "# Make sure changes have taken place\n",
        "\n",
        "print('launched_at converted to: ', df1['launched_at'].dtypes)\n",
        "print('deadline converted to: ', df1['deadline'].dtypes)"
      ],
      "execution_count": null,
      "outputs": [
        {
          "output_type": "stream",
          "text": [
            "launched_at converted to:  datetime64[ns]\n",
            "deadline converted to:  datetime64[ns]\n"
          ],
          "name": "stdout"
        }
      ]
    },
    {
      "cell_type": "markdown",
      "metadata": {
        "id": "c7sZdf-_O8I7"
      },
      "source": [
        "### Adding in some date and day encoder columns for future potential of time series analysis or machine learning techniques"
      ]
    },
    {
      "cell_type": "code",
      "metadata": {
        "id": "qwqiMkx-O8I7"
      },
      "source": [
        "# Add in some numeric values based on datetimes to simplify later time analysis and quarterly analysis\n",
        "\n",
        "def date_quarter_encoder(df,column, prefix):\n",
        "    df[prefix + '_month']             = df[column].dt.month\n",
        "#     df[prefix + '_week\"]            = df[column].dt.week, deprecated\n",
        "    df[prefix + '_week']              = df[column].dt.isocalendar().week\n",
        "    df[prefix + '_year']              = df[column].dt.year\n",
        "    df[prefix + '_day']               = df[column].dt.weekday\n",
        "    df[prefix + '_is_weekend']        = df[prefix + '_day'].apply(lambda x: 1 if x > 4 else 0)\n",
        "    df[prefix + '_Q1']                = df[prefix + '_month'].apply(lambda x: 1 if x <= 2 else 0)\n",
        "    df[prefix + '_Q2']                = df[prefix + '_month'].apply(lambda x: 1 if 2 < x <= 5 else 0)\n",
        "    df[prefix + '_Q3']                = df[prefix + '_month'].apply(lambda x: 1 if 5 < x <= 8 else 0)\n",
        "    df[prefix + '_Q4']                = df[prefix + '_month'].apply(lambda x: 1 if 8 < x <= 11 else 0)\n",
        "    \n",
        "    #0,1,2  3,4,5  6,7,8  9,10,11   :: Quarters indexed at 0\n",
        "    \n",
        "    return\n",
        "\n"
      ],
      "execution_count": null,
      "outputs": []
    },
    {
      "cell_type": "code",
      "metadata": {
        "id": "Bv-Xv_e2O8I8",
        "outputId": "dfee6b89-ffb2-4656-a24a-30617fd93659"
      },
      "source": [
        "date_quarter_encoder(df1,'launched_at', 'start')\n",
        "date_quarter_encoder(df1,'deadline', 'end')\n",
        "\n",
        "df1.head(1)"
      ],
      "execution_count": null,
      "outputs": [
        {
          "output_type": "execute_result",
          "data": {
            "text/html": [
              "<div>\n",
              "<style scoped>\n",
              "    .dataframe tbody tr th:only-of-type {\n",
              "        vertical-align: middle;\n",
              "    }\n",
              "\n",
              "    .dataframe tbody tr th {\n",
              "        vertical-align: top;\n",
              "    }\n",
              "\n",
              "    .dataframe thead th {\n",
              "        text-align: right;\n",
              "    }\n",
              "</style>\n",
              "<table border=\"1\" class=\"dataframe\">\n",
              "  <thead>\n",
              "    <tr style=\"text-align: right;\">\n",
              "      <th></th>\n",
              "      <th>Unnamed: 0</th>\n",
              "      <th>id</th>\n",
              "      <th>name</th>\n",
              "      <th>currency</th>\n",
              "      <th>launched_at</th>\n",
              "      <th>backers_count</th>\n",
              "      <th>blurb</th>\n",
              "      <th>country</th>\n",
              "      <th>deadline</th>\n",
              "      <th>status</th>\n",
              "      <th>usd_pledged</th>\n",
              "      <th>sub_category</th>\n",
              "      <th>main_category</th>\n",
              "      <th>creator_id</th>\n",
              "      <th>blurb_length</th>\n",
              "      <th>goal_usd</th>\n",
              "      <th>city</th>\n",
              "      <th>duration</th>\n",
              "      <th>is_project</th>\n",
              "      <th>is_succ</th>\n",
              "      <th>start_month</th>\n",
              "      <th>start_week</th>\n",
              "      <th>start_year</th>\n",
              "      <th>start_day</th>\n",
              "      <th>start_is_weekend</th>\n",
              "      <th>start_Q1</th>\n",
              "      <th>start_Q2</th>\n",
              "      <th>start_Q3</th>\n",
              "      <th>start_Q4</th>\n",
              "      <th>end_month</th>\n",
              "      <th>end_week</th>\n",
              "      <th>end_year</th>\n",
              "      <th>end_day</th>\n",
              "      <th>end_is_weekend</th>\n",
              "      <th>end_Q1</th>\n",
              "      <th>end_Q2</th>\n",
              "      <th>end_Q3</th>\n",
              "      <th>end_Q4</th>\n",
              "    </tr>\n",
              "  </thead>\n",
              "  <tbody>\n",
              "    <tr>\n",
              "      <th>0</th>\n",
              "      <td>0</td>\n",
              "      <td>1504859185</td>\n",
              "      <td>Industrial Bamboo Table</td>\n",
              "      <td>USD</td>\n",
              "      <td>2016-11-05 18:42:00</td>\n",
              "      <td>1</td>\n",
              "      <td>An eco-friendly coffee table that is both functional and beautiful. This table will be long last...</td>\n",
              "      <td>US</td>\n",
              "      <td>2016-12-05 19:42:00</td>\n",
              "      <td>failed</td>\n",
              "      <td>240.0</td>\n",
              "      <td>crafts</td>\n",
              "      <td>Woodworking</td>\n",
              "      <td>983022919</td>\n",
              "      <td>127</td>\n",
              "      <td>5,000.0</td>\n",
              "      <td>Austin</td>\n",
              "      <td>30</td>\n",
              "      <td>1</td>\n",
              "      <td>0</td>\n",
              "      <td>11</td>\n",
              "      <td>44</td>\n",
              "      <td>2016</td>\n",
              "      <td>5</td>\n",
              "      <td>1</td>\n",
              "      <td>0</td>\n",
              "      <td>0</td>\n",
              "      <td>0</td>\n",
              "      <td>1</td>\n",
              "      <td>12</td>\n",
              "      <td>49</td>\n",
              "      <td>2016</td>\n",
              "      <td>0</td>\n",
              "      <td>0</td>\n",
              "      <td>0</td>\n",
              "      <td>0</td>\n",
              "      <td>0</td>\n",
              "      <td>0</td>\n",
              "    </tr>\n",
              "  </tbody>\n",
              "</table>\n",
              "</div>"
            ],
            "text/plain": [
              "   Unnamed: 0          id                     name currency  \\\n",
              "0           0  1504859185  Industrial Bamboo Table      USD   \n",
              "\n",
              "          launched_at  backers_count  \\\n",
              "0 2016-11-05 18:42:00              1   \n",
              "\n",
              "                                                                                                 blurb  \\\n",
              "0  An eco-friendly coffee table that is both functional and beautiful. This table will be long last...   \n",
              "\n",
              "  country            deadline  status  usd_pledged sub_category main_category  \\\n",
              "0      US 2016-12-05 19:42:00  failed        240.0       crafts   Woodworking   \n",
              "\n",
              "   creator_id  blurb_length  goal_usd    city  duration  is_project  is_succ  \\\n",
              "0   983022919           127   5,000.0  Austin        30           1        0   \n",
              "\n",
              "   start_month  start_week  start_year  start_day  start_is_weekend  start_Q1  \\\n",
              "0           11          44        2016          5                 1         0   \n",
              "\n",
              "   start_Q2  start_Q3  start_Q4  end_month  end_week  end_year  end_day  \\\n",
              "0         0         0         1         12        49      2016        0   \n",
              "\n",
              "   end_is_weekend  end_Q1  end_Q2  end_Q3  end_Q4  \n",
              "0               0       0       0       0       0  "
            ]
          },
          "metadata": {
            "tags": []
          },
          "execution_count": 11
        }
      ]
    },
    {
      "cell_type": "markdown",
      "metadata": {
        "id": "h_Lcp1q4O8I8"
      },
      "source": [
        "<p> Our main interest at this time is what projects succeed and which fail.  We can see this information contained in the 'status' column.\n",
        " The column is a categorical object and we can list the types of entries, in this case we see 5 individual types.</p>"
      ]
    },
    {
      "cell_type": "code",
      "metadata": {
        "id": "JQt7Y9GAO8I9"
      },
      "source": [
        "# df1.status.unique()"
      ],
      "execution_count": null,
      "outputs": []
    },
    {
      "cell_type": "code",
      "metadata": {
        "id": "Cg9hVG1WO8I9",
        "outputId": "d158e250-da06-4255-92ed-868822640345"
      },
      "source": [
        "# Viewing a basic bar plot of the status column\n",
        "\n",
        "df1['status'].value_counts().plot(kind='bar', title='Status Categorical Variable')"
      ],
      "execution_count": null,
      "outputs": [
        {
          "output_type": "execute_result",
          "data": {
            "text/plain": [
              "<AxesSubplot:title={'center':'Status Categorical Variable'}>"
            ]
          },
          "metadata": {
            "tags": []
          },
          "execution_count": 13
        },
        {
          "output_type": "display_data",
          "data": {
            "image/png": "[encoded data removed]",
            "text/plain": [
              "<Figure size 432x288 with 1 Axes>"
            ]
          },
          "metadata": {
            "tags": []
          }
        }
      ]
    },
    {
      "cell_type": "markdown",
      "metadata": {
        "id": "s0hZdGo2O8I9"
      },
      "source": [
        "<p>The 5 types of 'status' represent the various states that a project can be in.  It can have reach or surpassed its funding goal and be successful, currently in process of funding and 'live', or it can be one of three failure modes:  'failed, 'canceled', or 'suspended'.  We will drop 'live' campaigns from the dataset in the code below as the success or failure of those is undetermined using this dataset </p>"
      ]
    },
    {
      "cell_type": "code",
      "metadata": {
        "id": "vrHCFYQ5O8I9"
      },
      "source": [
        "# Drop live cmapigns as the success or failure of those is undetermined using this dataset\n",
        "df1.drop(df1[df1['status'] == 'live'].index, inplace=True)"
      ],
      "execution_count": null,
      "outputs": []
    },
    {
      "cell_type": "code",
      "metadata": {
        "id": "vcII-7YNO8I-",
        "outputId": "951aeee3-425d-4a3c-f53d-75dae147277d"
      },
      "source": [
        "# Check the percentages of the categorical variables in status.\n",
        "\n",
        "plt.rcParams['font.size'] = 24\n",
        "figsize = (10,15)\n",
        "df1.groupby('status').size().plot(kind='pie', autopct='%.2f%%', textprops={'fontsize': 20},\n",
        "                                  colors=['orange', 'red', 'lightgreen','black'], legend=False, figsize=figsize, \n",
        "                                  title='Percentage Breakdown of Campaign Outcome',\n",
        "                                 ylabel='')\n"
      ],
      "execution_count": null,
      "outputs": [
        {
          "output_type": "execute_result",
          "data": {
            "text/plain": [
              "<AxesSubplot:title={'center':'Percentage Breakdown of Campaign Outcome'}>"
            ]
          },
          "metadata": {
            "tags": []
          },
          "execution_count": 15
        },
        {
          "output_type": "display_data",
          "data": {
            "image/png": "[encoded data removed]",
            "text/plain": [
              "<Figure size 720x1080 with 1 Axes>"
            ]
          },
          "metadata": {
            "tags": []
          }
        }
      ]
    },
    {
      "cell_type": "markdown",
      "metadata": {
        "id": "h-m76q1cO8I-"
      },
      "source": [
        "<p>\n",
        "We can see that ~58% of the total amount of projects are sucessful over time, due to the business model, it would be\n",
        "ideal if we could find patterns in the data that could determine wether or not, at a macro level, the campaign has\n",
        "a higher percentage of success.  These projects could be further promoted on the the platform through targeted email\n",
        "campaigns or some other means of digital marketing.\n",
        "</p>\n"
      ]
    },
    {
      "cell_type": "markdown",
      "metadata": {
        "id": "-tUs89gAO8I_"
      },
      "source": [
        "### Barchart of how many Projects per Year in Total were on the platform."
      ]
    },
    {
      "cell_type": "code",
      "metadata": {
        "id": "Y1sJfsZCO8I_",
        "outputId": "7b083304-db86-4d8e-f677-bd0d0124ef77"
      },
      "source": [
        "#plot of how many projects per year there were in total\n",
        "\n",
        "figsize = (10,6)\n",
        "df_years = df1.groupby('start_year', as_index=False)['is_project'].sum()\n",
        "df_years.plot(kind='bar', x='start_year', y='is_project', figsize=figsize, title='Number of Projects by Year')"
      ],
      "execution_count": null,
      "outputs": [
        {
          "output_type": "execute_result",
          "data": {
            "text/plain": [
              "<AxesSubplot:title={'center':'Number of Projects by Year'}, xlabel='start_year'>"
            ]
          },
          "metadata": {
            "tags": []
          },
          "execution_count": 16
        },
        {
          "output_type": "display_data",
          "data": {
            "image/png": "[encoded data removed]",
            "text/plain": [
              "<Figure size 720x432 with 1 Axes>"
            ]
          },
          "metadata": {
            "tags": []
          }
        }
      ]
    },
    {
      "cell_type": "markdown",
      "metadata": {
        "id": "pnb8IXwzO8JA"
      },
      "source": [
        "\n",
        "#### Note: 2019 has very little data, mainly because we dropped all the live data earlier so we will drop 2019 from the analysis.\n"
      ]
    },
    {
      "cell_type": "code",
      "metadata": {
        "id": "tuQFrlsGO8JA",
        "outputId": "047d374b-2e5e-431c-f89c-c0d521860448"
      },
      "source": [
        "df1.drop(df1[df1['start_year'] == 2019].index, inplace=True)\n",
        "figsize = (10,6)\n",
        "df_years = df1.groupby('start_year', as_index=False)['is_project'].sum()\n",
        "df_years.plot(kind='bar', x='start_year', y='is_project', figsize=figsize, title='Number of Projects by Year, 2019 dropped')"
      ],
      "execution_count": null,
      "outputs": [
        {
          "output_type": "execute_result",
          "data": {
            "text/plain": [
              "<AxesSubplot:title={'center':'Number of Projects by Year, 2019 dropped'}, xlabel='start_year'>"
            ]
          },
          "metadata": {
            "tags": []
          },
          "execution_count": 17
        },
        {
          "output_type": "display_data",
          "data": {
            "image/png": "[encoded data removed]",
            "text/plain": [
              "<Figure size 720x432 with 1 Axes>"
            ]
          },
          "metadata": {
            "tags": []
          }
        }
      ]
    },
    {
      "cell_type": "markdown",
      "metadata": {
        "id": "v7VcWAsdO8JA"
      },
      "source": [
        "<p>\n",
        "It is interesting to note the very noticable decline in total number of projects from 2015 to 2017. \n",
        "Let us take a closer look at the percentages of failures to total projects across time.\n",
        "\n",
        "</p>"
      ]
    },
    {
      "cell_type": "code",
      "metadata": {
        "id": "EBTztA4bO8JB",
        "outputId": "ea734c26-a7ab-4ad4-e03c-95206cd617c0"
      },
      "source": [
        "df_compare = df1[['start_year', 'is_project', 'is_succ' ]]\n",
        "df_compare = df_compare.groupby('start_year', as_index=False)['is_project','is_succ'].sum()\n",
        "df_compare.plot(kind='bar', x='start_year', figsize=(10,6), title='Comparison of Successful v Total Projects by Year')\n",
        "# ax = df_compare.plot.bar(x='start_year',stacked=True, figsize=(10,6))\n"
      ],
      "execution_count": null,
      "outputs": [
        {
          "output_type": "execute_result",
          "data": {
            "text/plain": [
              "<AxesSubplot:title={'center':'Comparison of Successful v Total Projects by Year'}, xlabel='start_year'>"
            ]
          },
          "metadata": {
            "tags": []
          },
          "execution_count": 18
        },
        {
          "output_type": "display_data",
          "data": {
            "image/png": "[encoded data removed]",
            "text/plain": [
              "<Figure size 720x432 with 1 Axes>"
            ]
          },
          "metadata": {
            "tags": []
          }
        }
      ]
    },
    {
      "cell_type": "code",
      "metadata": {
        "id": "ZpDYNOlXO8JB",
        "outputId": "973c5fea-d13f-4227-dec5-d79671153b56"
      },
      "source": [
        "df_compare['pct_win'] = round(df_compare['is_succ'] / df_compare['is_project'],2)\n",
        "df_compare"
      ],
      "execution_count": null,
      "outputs": [
        {
          "output_type": "execute_result",
          "data": {
            "text/html": [
              "<div>\n",
              "<style scoped>\n",
              "    .dataframe tbody tr th:only-of-type {\n",
              "        vertical-align: middle;\n",
              "    }\n",
              "\n",
              "    .dataframe tbody tr th {\n",
              "        vertical-align: top;\n",
              "    }\n",
              "\n",
              "    .dataframe thead th {\n",
              "        text-align: right;\n",
              "    }\n",
              "</style>\n",
              "<table border=\"1\" class=\"dataframe\">\n",
              "  <thead>\n",
              "    <tr style=\"text-align: right;\">\n",
              "      <th></th>\n",
              "      <th>start_year</th>\n",
              "      <th>is_project</th>\n",
              "      <th>is_succ</th>\n",
              "      <th>pct_win</th>\n",
              "    </tr>\n",
              "  </thead>\n",
              "  <tbody>\n",
              "    <tr>\n",
              "      <th>0</th>\n",
              "      <td>2009</td>\n",
              "      <td>234</td>\n",
              "      <td>183</td>\n",
              "      <td>0.78</td>\n",
              "    </tr>\n",
              "    <tr>\n",
              "      <th>1</th>\n",
              "      <td>2010</td>\n",
              "      <td>1449</td>\n",
              "      <td>1075</td>\n",
              "      <td>0.74</td>\n",
              "    </tr>\n",
              "    <tr>\n",
              "      <th>2</th>\n",
              "      <td>2011</td>\n",
              "      <td>4351</td>\n",
              "      <td>3320</td>\n",
              "      <td>0.76</td>\n",
              "    </tr>\n",
              "    <tr>\n",
              "      <th>3</th>\n",
              "      <td>2012</td>\n",
              "      <td>8862</td>\n",
              "      <td>6795</td>\n",
              "      <td>0.77</td>\n",
              "    </tr>\n",
              "    <tr>\n",
              "      <th>4</th>\n",
              "      <td>2013</td>\n",
              "      <td>11657</td>\n",
              "      <td>9132</td>\n",
              "      <td>0.78</td>\n",
              "    </tr>\n",
              "    <tr>\n",
              "      <th>5</th>\n",
              "      <td>2014</td>\n",
              "      <td>28565</td>\n",
              "      <td>14568</td>\n",
              "      <td>0.51</td>\n",
              "    </tr>\n",
              "    <tr>\n",
              "      <th>6</th>\n",
              "      <td>2015</td>\n",
              "      <td>39799</td>\n",
              "      <td>17115</td>\n",
              "      <td>0.43</td>\n",
              "    </tr>\n",
              "    <tr>\n",
              "      <th>7</th>\n",
              "      <td>2016</td>\n",
              "      <td>30929</td>\n",
              "      <td>14856</td>\n",
              "      <td>0.48</td>\n",
              "    </tr>\n",
              "    <tr>\n",
              "      <th>8</th>\n",
              "      <td>2017</td>\n",
              "      <td>33200</td>\n",
              "      <td>18691</td>\n",
              "      <td>0.56</td>\n",
              "    </tr>\n",
              "    <tr>\n",
              "      <th>9</th>\n",
              "      <td>2018</td>\n",
              "      <td>43853</td>\n",
              "      <td>32410</td>\n",
              "      <td>0.74</td>\n",
              "    </tr>\n",
              "  </tbody>\n",
              "</table>\n",
              "</div>"
            ],
            "text/plain": [
              "   start_year  is_project  is_succ  pct_win\n",
              "0        2009         234      183     0.78\n",
              "1        2010        1449     1075     0.74\n",
              "2        2011        4351     3320     0.76\n",
              "3        2012        8862     6795     0.77\n",
              "4        2013       11657     9132     0.78\n",
              "5        2014       28565    14568     0.51\n",
              "6        2015       39799    17115     0.43\n",
              "7        2016       30929    14856     0.48\n",
              "8        2017       33200    18691     0.56\n",
              "9        2018       43853    32410     0.74"
            ]
          },
          "metadata": {
            "tags": []
          },
          "execution_count": 19
        }
      ]
    },
    {
      "cell_type": "markdown",
      "metadata": {
        "id": "0JTj2YRxO8JB"
      },
      "source": [
        "<p>\n",
        "One can see in the chart and the table above that the success rates in the years from 2014 to 2017 dropped signifigantly\n",
        "as well as the overall total number of projects hosted on the site.  There could be a potential mulitude of reasons for this \n",
        "from competition in the space to nefarious or non-serious creators using the site a s a quick way to make capital.\n",
        "</p>"
      ]
    },
    {
      "cell_type": "markdown",
      "metadata": {
        "id": "FSbVATqUO8JC"
      },
      "source": [
        "### Looking at Kickstarter Gross Revenue\n",
        "#### According to Kickstarter website the company takes a 5% cut of all campaigns who reach or surpass the targeted goal amount"
      ]
    },
    {
      "cell_type": "code",
      "metadata": {
        "id": "zxl0EiSRO8JC"
      },
      "source": [
        "# split the data set into winners and losers for further analysis\n",
        "\n",
        "ks_win = df1[df1['status'] == 'successful']\n",
        "ks_lose = df1[df1['status'] != 'successful']\n",
        "\n",
        "#print(len(ks_win) / len(df1))  #quick check to make sure we captured correct data"
      ],
      "execution_count": null,
      "outputs": []
    },
    {
      "cell_type": "code",
      "metadata": {
        "id": "7klH90u3O8JC",
        "outputId": "2900cd44-231b-441a-958c-8f12143375fc"
      },
      "source": [
        "# Revenue by Year\n",
        "\n",
        "print('Total Dollars Pledged to Winning Campaigns: ',round(ks_win['usd_pledged'].sum(),0))\n",
        "print('Kickstarter Total Income assuming 5% fee of Winning Campaigns: ', round(.05 * ks_win['usd_pledged'].sum(),0))"
      ],
      "execution_count": null,
      "outputs": [
        {
          "output_type": "stream",
          "text": [
            "Total Dollars Pledged to Winning Campaigns:  2611258107.0\n",
            "Kickstarter Total Income assuming 5% fee of Winning Campaigns:  130562905.0\n"
          ],
          "name": "stdout"
        }
      ]
    },
    {
      "cell_type": "code",
      "metadata": {
        "id": "1nwJwVL3O8JD",
        "outputId": "f0f60f0b-a3f3-4721-a813-626d336a183b"
      },
      "source": [
        "ks_win_dollars = ks_win.groupby('start_year', as_index=False)['usd_pledged'].sum()\n",
        "ks_win_dollars['usd_pledged'] = round(ks_win_dollars['usd_pledged'])\n",
        "ks_win_dollars['ks_fee_5%_in_millions'] = round((ks_win_dollars['usd_pledged'] * .05) / 1000000,2)\n",
        "ks_win_dollars"
      ],
      "execution_count": null,
      "outputs": [
        {
          "output_type": "execute_result",
          "data": {
            "text/html": [
              "<div>\n",
              "<style scoped>\n",
              "    .dataframe tbody tr th:only-of-type {\n",
              "        vertical-align: middle;\n",
              "    }\n",
              "\n",
              "    .dataframe tbody tr th {\n",
              "        vertical-align: top;\n",
              "    }\n",
              "\n",
              "    .dataframe thead th {\n",
              "        text-align: right;\n",
              "    }\n",
              "</style>\n",
              "<table border=\"1\" class=\"dataframe\">\n",
              "  <thead>\n",
              "    <tr style=\"text-align: right;\">\n",
              "      <th></th>\n",
              "      <th>start_year</th>\n",
              "      <th>usd_pledged</th>\n",
              "      <th>ks_fee_5%_in_millions</th>\n",
              "    </tr>\n",
              "  </thead>\n",
              "  <tbody>\n",
              "    <tr>\n",
              "      <th>0</th>\n",
              "      <td>2009</td>\n",
              "      <td>788,848.0</td>\n",
              "      <td>0.04</td>\n",
              "    </tr>\n",
              "    <tr>\n",
              "      <th>1</th>\n",
              "      <td>2010</td>\n",
              "      <td>6,336,757.0</td>\n",
              "      <td>0.32</td>\n",
              "    </tr>\n",
              "    <tr>\n",
              "      <th>2</th>\n",
              "      <td>2011</td>\n",
              "      <td>23,010,376.0</td>\n",
              "      <td>1.15</td>\n",
              "    </tr>\n",
              "    <tr>\n",
              "      <th>3</th>\n",
              "      <td>2012</td>\n",
              "      <td>83,009,548.0</td>\n",
              "      <td>4.15</td>\n",
              "    </tr>\n",
              "    <tr>\n",
              "      <th>4</th>\n",
              "      <td>2013</td>\n",
              "      <td>192,176,214.0</td>\n",
              "      <td>9.61</td>\n",
              "    </tr>\n",
              "    <tr>\n",
              "      <th>5</th>\n",
              "      <td>2014</td>\n",
              "      <td>243,111,759.0</td>\n",
              "      <td>12.16</td>\n",
              "    </tr>\n",
              "    <tr>\n",
              "      <th>6</th>\n",
              "      <td>2015</td>\n",
              "      <td>335,226,984.0</td>\n",
              "      <td>16.76</td>\n",
              "    </tr>\n",
              "    <tr>\n",
              "      <th>7</th>\n",
              "      <td>2016</td>\n",
              "      <td>294,979,661.0</td>\n",
              "      <td>14.75</td>\n",
              "    </tr>\n",
              "    <tr>\n",
              "      <th>8</th>\n",
              "      <td>2017</td>\n",
              "      <td>474,845,647.0</td>\n",
              "      <td>23.74</td>\n",
              "    </tr>\n",
              "    <tr>\n",
              "      <th>9</th>\n",
              "      <td>2018</td>\n",
              "      <td>957,772,313.0</td>\n",
              "      <td>47.89</td>\n",
              "    </tr>\n",
              "  </tbody>\n",
              "</table>\n",
              "</div>"
            ],
            "text/plain": [
              "   start_year   usd_pledged  ks_fee_5%_in_millions\n",
              "0        2009     788,848.0                   0.04\n",
              "1        2010   6,336,757.0                   0.32\n",
              "2        2011  23,010,376.0                   1.15\n",
              "3        2012  83,009,548.0                   4.15\n",
              "4        2013 192,176,214.0                   9.61\n",
              "5        2014 243,111,759.0                  12.16\n",
              "6        2015 335,226,984.0                  16.76\n",
              "7        2016 294,979,661.0                  14.75\n",
              "8        2017 474,845,647.0                  23.74\n",
              "9        2018 957,772,313.0                  47.89"
            ]
          },
          "metadata": {
            "tags": []
          },
          "execution_count": 22
        }
      ]
    },
    {
      "cell_type": "code",
      "metadata": {
        "id": "Vng5AjUrO8JD",
        "outputId": "2895a521-50a4-488c-a1b8-9be7abdb87da"
      },
      "source": [
        "figsize = (10,6)\n",
        "ks_win_dollars.plot(kind='bar', x='start_year', y='ks_fee_5%_in_millions', \n",
        "                    figsize=figsize, title = 'Kickstarter Revenue in Millions')"
      ],
      "execution_count": null,
      "outputs": [
        {
          "output_type": "execute_result",
          "data": {
            "text/plain": [
              "<AxesSubplot:title={'center':'Kickstarter Revenue in Millions'}, xlabel='start_year'>"
            ]
          },
          "metadata": {
            "tags": []
          },
          "execution_count": 23
        },
        {
          "output_type": "display_data",
          "data": {
            "image/png": "[encoded data removed]",
            "text/plain": [
              "<Figure size 720x432 with 1 Axes>"
            ]
          },
          "metadata": {
            "tags": []
          }
        }
      ]
    },
    {
      "cell_type": "markdown",
      "metadata": {
        "id": "lL1TINJkO8JE"
      },
      "source": [
        "<p>\n",
        "One observed earlier that total amount of projects declined before rising again in 2018 but Kickstarter managed to raise \n",
        "much more revenue in 2018 than previously.  Clearly there were many more successful / profitable projects as time went on.\n",
        "</p>"
      ]
    },
    {
      "cell_type": "markdown",
      "metadata": {
        "id": "SCcYF6_fO8JE"
      },
      "source": [
        "<p>\n",
        "Clearly, there are more complex dynamics at play than just the raw number of projects available on the platform.  To further investigate the mystery of the increased success rate rebound it would perhaps benefit one to look into the actual goal amounts to be raised.\n",
        "</p>\n",
        "\n",
        "___"
      ]
    },
    {
      "cell_type": "markdown",
      "metadata": {
        "id": "iCd5qPF5O8JE"
      },
      "source": [
        "## Boxplot to investigate the mean of project funding goals."
      ]
    },
    {
      "cell_type": "code",
      "metadata": {
        "id": "GhymeCnBO8JE",
        "outputId": "fb907484-bbd7-4504-ee88-09e7f6213841"
      },
      "source": [
        "goals_info = round(df1['goal_usd'].describe())\n",
        "goals_info"
      ],
      "execution_count": null,
      "outputs": [
        {
          "output_type": "execute_result",
          "data": {
            "text/plain": [
              "count       202,899.0\n",
              "mean         40,649.0\n",
              "std       1,108,574.0\n",
              "min               0.0\n",
              "25%           1,500.0\n",
              "50%           5,000.0\n",
              "75%          12,857.0\n",
              "max     128,567,921.0\n",
              "Name: goal_usd, dtype: float64"
            ]
          },
          "metadata": {
            "tags": []
          },
          "execution_count": 24
        }
      ]
    },
    {
      "cell_type": "markdown",
      "metadata": {
        "id": "1tud9X-8O8JF"
      },
      "source": [
        "<p>\n",
        "One can see the mean of approximately \\$40,000, but a standard deviation of \\$1.1 million, this implies a highly skewed distribution of \n",
        "potential goal amounts. One can also observe that the goal data spans an enormous range of values from \\$.70 to \\$128 million.  It may be necessary to log-transform the data or select a methodology to remove outliers.\n",
        "    \n",
        "Initially, a log-transfrom will be done to maintain the integrity of the data and remove any bias in what constitutes an outlier.\n",
        "</p>"
      ]
    },
    {
      "cell_type": "code",
      "metadata": {
        "id": "4eHqJTO6O8JF"
      },
      "source": [
        "# To scale the data better for plotting log transformation is completed\n",
        "\n",
        "df1['goal_log'] = np.log(df1['goal_usd'] + 1)"
      ],
      "execution_count": null,
      "outputs": []
    },
    {
      "cell_type": "code",
      "metadata": {
        "id": "Edz3S8gXO8JF",
        "outputId": "b2311ff0-d421-4c1a-9ba9-211986425338"
      },
      "source": [
        "# Boxplot of Goal Amount by Year\n",
        "\n",
        "sns.set(rc={'figure.figsize':(15,9)})\n",
        "\n",
        "ax = sns.boxplot(x='start_year', y='goal_log', data=df1,\n",
        "                showmeans=True,             \n",
        "                meanprops={\"marker\":\"o\",\n",
        "                       \"markerfacecolor\":\"white\", \n",
        "                       \"markeredgecolor\":\"black\",\n",
        "                      \"markersize\":\"10\"}\n",
        "                ).set_title('Goal Amount(log) by Year')"
      ],
      "execution_count": null,
      "outputs": [
        {
          "output_type": "display_data",
          "data": {
            "image/png": "[encoded data removed]",
            "text/plain": [
              "<Figure size 1080x648 with 1 Axes>"
            ]
          },
          "metadata": {
            "tags": []
          }
        }
      ]
    },
    {
      "cell_type": "code",
      "metadata": {
        "id": "u6MxsRbGO8JF",
        "outputId": "e7c6b60a-424a-42f1-8833-ed8044ed07ee"
      },
      "source": [
        "df_goal_means = df1.groupby('start_year', as_index=False)['goal_usd'].mean()\n",
        "df_goal_means['goal_usd'] = round(df_goal_means['goal_usd'])\n",
        "df_goal_means.plot(kind='bar',x='start_year', y='goal_usd', color='purple', alpha=.5, title='Mean Goal Amount by Year')"
      ],
      "execution_count": null,
      "outputs": [
        {
          "output_type": "execute_result",
          "data": {
            "text/plain": [
              "<AxesSubplot:title={'center':'Mean Goal Amount by Year'}, xlabel='start_year'>"
            ]
          },
          "metadata": {
            "tags": []
          },
          "execution_count": 27
        },
        {
          "output_type": "display_data",
          "data": {
            "image/png": "[encoded data removed]",
            "text/plain": [
              "<Figure size 1080x648 with 1 Axes>"
            ]
          },
          "metadata": {
            "tags": []
          }
        }
      ]
    },
    {
      "cell_type": "code",
      "metadata": {
        "id": "PlibZ2jTO8JG",
        "outputId": "f9870164-8746-4f48-d1ad-33f73633f319"
      },
      "source": [
        "#List of goal amounts by year\n",
        "\n",
        "df_goal_means"
      ],
      "execution_count": null,
      "outputs": [
        {
          "output_type": "execute_result",
          "data": {
            "text/html": [
              "<div>\n",
              "<style scoped>\n",
              "    .dataframe tbody tr th:only-of-type {\n",
              "        vertical-align: middle;\n",
              "    }\n",
              "\n",
              "    .dataframe tbody tr th {\n",
              "        vertical-align: top;\n",
              "    }\n",
              "\n",
              "    .dataframe thead th {\n",
              "        text-align: right;\n",
              "    }\n",
              "</style>\n",
              "<table border=\"1\" class=\"dataframe\">\n",
              "  <thead>\n",
              "    <tr style=\"text-align: right;\">\n",
              "      <th></th>\n",
              "      <th>start_year</th>\n",
              "      <th>goal_usd</th>\n",
              "    </tr>\n",
              "  </thead>\n",
              "  <tbody>\n",
              "    <tr>\n",
              "      <th>0</th>\n",
              "      <td>2009</td>\n",
              "      <td>4,075.0</td>\n",
              "    </tr>\n",
              "    <tr>\n",
              "      <th>1</th>\n",
              "      <td>2010</td>\n",
              "      <td>5,403.0</td>\n",
              "    </tr>\n",
              "    <tr>\n",
              "      <th>2</th>\n",
              "      <td>2011</td>\n",
              "      <td>6,466.0</td>\n",
              "    </tr>\n",
              "    <tr>\n",
              "      <th>3</th>\n",
              "      <td>2012</td>\n",
              "      <td>10,033.0</td>\n",
              "    </tr>\n",
              "    <tr>\n",
              "      <th>4</th>\n",
              "      <td>2013</td>\n",
              "      <td>14,035.0</td>\n",
              "    </tr>\n",
              "    <tr>\n",
              "      <th>5</th>\n",
              "      <td>2014</td>\n",
              "      <td>41,058.0</td>\n",
              "    </tr>\n",
              "    <tr>\n",
              "      <th>6</th>\n",
              "      <td>2015</td>\n",
              "      <td>70,579.0</td>\n",
              "    </tr>\n",
              "    <tr>\n",
              "      <th>7</th>\n",
              "      <td>2016</td>\n",
              "      <td>56,809.0</td>\n",
              "    </tr>\n",
              "    <tr>\n",
              "      <th>8</th>\n",
              "      <td>2017</td>\n",
              "      <td>45,126.0</td>\n",
              "    </tr>\n",
              "    <tr>\n",
              "      <th>9</th>\n",
              "      <td>2018</td>\n",
              "      <td>16,447.0</td>\n",
              "    </tr>\n",
              "  </tbody>\n",
              "</table>\n",
              "</div>"
            ],
            "text/plain": [
              "   start_year  goal_usd\n",
              "0        2009   4,075.0\n",
              "1        2010   5,403.0\n",
              "2        2011   6,466.0\n",
              "3        2012  10,033.0\n",
              "4        2013  14,035.0\n",
              "5        2014  41,058.0\n",
              "6        2015  70,579.0\n",
              "7        2016  56,809.0\n",
              "8        2017  45,126.0\n",
              "9        2018  16,447.0"
            ]
          },
          "metadata": {
            "tags": []
          },
          "execution_count": 28
        }
      ]
    },
    {
      "cell_type": "markdown",
      "metadata": {
        "id": "WlqlTR3iO8JG"
      },
      "source": [
        "<p>\n",
        "As one can see, a difference in mean goal amounts is signifigantly lower in 2018, than in the most recent preceding years. This is potentially leading to increased success percentage of campaigns and hence more gross revenue for Kickstarter.  \n",
        "\n",
        "Also visible is the enormous range of potential outlier values skewing the dataset.  More work would need to be performed on analyzing the very high or low goals.\n",
        "    \n",
        "Furthering this intial study let us analyze the distributions of successful campaign goals versus unsuccessful ones.\n",
        "</p>"
      ]
    },
    {
      "cell_type": "code",
      "metadata": {
        "id": "Y5-f77X4O8JG",
        "outputId": "5f68ef6f-0a96-4cc2-b788-0745420672e8"
      },
      "source": [
        "# Plot the distributions of the winners and loser goal amounts\n",
        "\n",
        "x1 = np.log(ks_win['goal_usd'] + 1)\n",
        "x2 = np.log(ks_lose['goal_usd'] + 1)\n",
        "\n",
        "x1_hist = x1.hist(bins = 20, color='blue',alpha=.5)\n",
        "x2_hist = x2.hist(bins = 20, color='red', alpha=.5)\n",
        "x1_hist.set_title('Histogram, Log Scaled, distributions of Successful(blue) v Unsuccessful(red) campaigns Goal amount')\n"
      ],
      "execution_count": null,
      "outputs": [
        {
          "output_type": "execute_result",
          "data": {
            "text/plain": [
              "Text(0.5, 1.0, 'Histogram, Log Scaled, distributions of Successful(blue) v Unsuccessful(red) campaigns Goal amount')"
            ]
          },
          "metadata": {
            "tags": []
          },
          "execution_count": 29
        },
        {
          "output_type": "display_data",
          "data": {
            "image/png": "[encoded data removed]",
            "text/plain": [
              "<Figure size 1080x648 with 1 Axes>"
            ]
          },
          "metadata": {
            "tags": []
          }
        }
      ]
    },
    {
      "cell_type": "markdown",
      "metadata": {
        "id": "GZmcQA5hO8JH"
      },
      "source": [
        "### It is visible in these overlapping distributions that the unsuccessful campaigns are right skewed.  Hence, unsuccessful campaigns seem to be initially asking for too much money for the potential value that the market sees from the end product.\n",
        "\n",
        "___"
      ]
    },
    {
      "cell_type": "markdown",
      "metadata": {
        "id": "xiAkGU-uO8JH"
      },
      "source": [
        "## Goal amounts by category type: "
      ]
    },
    {
      "cell_type": "code",
      "metadata": {
        "id": "gO-xp6juO8JH",
        "outputId": "7d6d2b52-276d-40f2-a4cb-2cd2eddd04d6"
      },
      "source": [
        "df_cat_goal_means = df1.groupby(['start_year','sub_category'], as_index=False)['goal_usd'].mean()\n",
        "df_cat_goal_means['goal_usd'] = df_cat_goal_means['goal_usd'] / 1000\n",
        "\n",
        "    \n",
        "sub_df = df_cat_goal_means.groupby(['start_year','sub_category'])['goal_usd'].sum().unstack()\n",
        "sub_df.plot(kind='bar',stacked=True, legend=True, title='Goal Amounts in $1,000s')\n",
        "# sub_df.legend(loc='best')"
      ],
      "execution_count": null,
      "outputs": [
        {
          "output_type": "execute_result",
          "data": {
            "text/plain": [
              "<AxesSubplot:title={'center':'Goal Amounts in $1,000s'}, xlabel='start_year'>"
            ]
          },
          "metadata": {
            "tags": []
          },
          "execution_count": 30
        },
        {
          "output_type": "display_data",
          "data": {
            "image/png": "[encoded data removed]",
            "text/plain": [
              "<Figure size 1080x648 with 1 Axes>"
            ]
          },
          "metadata": {
            "tags": []
          }
        }
      ]
    },
    {
      "cell_type": "markdown",
      "metadata": {
        "id": "Uk61oxN2O8JH"
      },
      "source": [
        "<p>This graph, while interesting is a little complicated to read.  There are some patterns visible in the data however in terms of one being able to observe different categories growing and shrinking over time in the dataset.\n",
        "\n",
        "It is worth conitnuing to drill down into the dataset to analyze the goal amount by catergory to see if any interesting patterns emerge\n",
        "</p>"
      ]
    },
    {
      "cell_type": "code",
      "metadata": {
        "scrolled": false,
        "id": "zukf276PO8JI",
        "outputId": "5c40646c-a76d-42c5-c1d0-3dfa9895204c"
      },
      "source": [
        "# log boxplot by category\n",
        "\n",
        "ax = sns.boxplot(x='sub_category', y='goal_log', data=df1, showmeans=True,             \n",
        "                    meanprops={\"marker\":\"o\",\n",
        "                       \"markerfacecolor\":\"white\", \n",
        "                       \"markeredgecolor\":\"black\",\n",
        "                      \"markersize\":\"10\"}).set_title(\"Goal(log) by Category\")\n",
        "\n"
      ],
      "execution_count": null,
      "outputs": [
        {
          "output_type": "display_data",
          "data": {
            "image/png": "[encoded data removed]",
            "text/plain": [
              "<Figure size 1080x648 with 1 Axes>"
            ]
          },
          "metadata": {
            "tags": []
          }
        }
      ]
    },
    {
      "cell_type": "markdown",
      "metadata": {
        "id": "Wyo3eB1PO8JI"
      },
      "source": [
        "<p>\n",
        "Using the theory that lower goal thresholds equal more chances for success we will see if 'crafts' has a better success rate\n",
        "than 'tech' or 'food'\n",
        "</p>"
      ]
    },
    {
      "cell_type": "code",
      "metadata": {
        "id": "nGl0NQY_O8JI"
      },
      "source": [
        "# custom function to calculate the win percentage of a category\n",
        "\n",
        "def cat_win_pct(df,cat):\n",
        "    df_x = df[df['sub_category'] == cat]\n",
        "    inital_shape = df_x.shape[0]\n",
        "    df_x = df_x.groupby('status', as_index=False).count().copy()\n",
        "    wc1 = (df_x[df_x[\"status\"] == \"successful\"][\"id\"].values[0])\n",
        "    craft_win_pct = wc1 / inital_shape\n",
        "    \n",
        "    return round(craft_win_pct,3)\n",
        "    "
      ],
      "execution_count": null,
      "outputs": []
    },
    {
      "cell_type": "code",
      "metadata": {
        "id": "wLASbJ6eO8JI"
      },
      "source": [
        "# For loop to calc win pct for each category\n",
        "\n",
        "cat_list = df1['sub_category'].unique()\n",
        "cat_output = []\n",
        "\n",
        "\n",
        "for cat in cat_list:\n",
        "    n = cat_win_pct(df1,cat)\n",
        "    cat_output.append(cat)\n",
        "    cat_output.append(n)\n"
      ],
      "execution_count": null,
      "outputs": []
    },
    {
      "cell_type": "code",
      "metadata": {
        "id": "CLcZcL2iO8JJ"
      },
      "source": [
        "# cuctome function to convert lists to dictionaries\n",
        "\n",
        "def Convert_to_dict(a):\n",
        "    it = iter(a)\n",
        "    res_dct = dict(zip(it, it))\n",
        "    return res_dct"
      ],
      "execution_count": null,
      "outputs": []
    },
    {
      "cell_type": "code",
      "metadata": {
        "id": "xTn017x6O8JJ"
      },
      "source": [
        "cat_dict = Convert_to_dict(cat_output)\n"
      ],
      "execution_count": null,
      "outputs": []
    },
    {
      "cell_type": "code",
      "metadata": {
        "id": "Wvl541Y-O8JJ",
        "outputId": "01fb4280-8e87-48a4-c244-078da89120ee"
      },
      "source": [
        "# Build dataframe comparing goal means and win_pct for succesful projects\n",
        "\n",
        "dataset_mean = round(df1['goal_usd'].mean(),1)\n",
        "\n",
        "df_cat_glm = df1.groupby('sub_category', as_index=False)['goal_usd'].mean().copy()\n",
        "df_cat_glm['goal_usd'] = round(df_cat_glm['goal_usd'],0)\n",
        "df_cat_glm['dataset_goal_usd'] = round(dataset_mean,0)\n",
        "df_cat_glm['diff_usd'] = round(df_cat_glm['goal_usd'] - df_cat_glm['dataset_goal_usd'],0)\n",
        "df_cat_glm['win_pct'] = df_cat_glm['sub_category']\n",
        "df_cat_glm['win_pct'] = df_cat_glm.replace({'win_pct': cat_dict})\n",
        "\n",
        "df_cat_glm.replace({'win_pct': cat_dict}, inplace=True)\n",
        "# df_cat_glm.sort_values(by=['diff_usd'],inplace=True)\n",
        "\n",
        "print('\\nMean goals and differences vs entire dataset mean goal amount')\n",
        "df_cat_glm"
      ],
      "execution_count": null,
      "outputs": [
        {
          "output_type": "stream",
          "text": [
            "\n",
            "Mean goals and differences vs entire dataset mean goal amount\n"
          ],
          "name": "stdout"
        },
        {
          "output_type": "execute_result",
          "data": {
            "text/html": [
              "<div>\n",
              "<style scoped>\n",
              "    .dataframe tbody tr th:only-of-type {\n",
              "        vertical-align: middle;\n",
              "    }\n",
              "\n",
              "    .dataframe tbody tr th {\n",
              "        vertical-align: top;\n",
              "    }\n",
              "\n",
              "    .dataframe thead th {\n",
              "        text-align: right;\n",
              "    }\n",
              "</style>\n",
              "<table border=\"1\" class=\"dataframe\">\n",
              "  <thead>\n",
              "    <tr style=\"text-align: right;\">\n",
              "      <th></th>\n",
              "      <th>sub_category</th>\n",
              "      <th>goal_usd</th>\n",
              "      <th>dataset_goal_usd</th>\n",
              "      <th>diff_usd</th>\n",
              "      <th>win_pct</th>\n",
              "    </tr>\n",
              "  </thead>\n",
              "  <tbody>\n",
              "    <tr>\n",
              "      <th>0</th>\n",
              "      <td>art</td>\n",
              "      <td>31,150.0</td>\n",
              "      <td>40,649.0</td>\n",
              "      <td>-9,499.0</td>\n",
              "      <td>0.573</td>\n",
              "    </tr>\n",
              "    <tr>\n",
              "      <th>1</th>\n",
              "      <td>comics</td>\n",
              "      <td>6,532.0</td>\n",
              "      <td>40,649.0</td>\n",
              "      <td>-34,117.0</td>\n",
              "      <td>0.806</td>\n",
              "    </tr>\n",
              "    <tr>\n",
              "      <th>2</th>\n",
              "      <td>crafts</td>\n",
              "      <td>8,412.0</td>\n",
              "      <td>40,649.0</td>\n",
              "      <td>-32,237.0</td>\n",
              "      <td>0.488</td>\n",
              "    </tr>\n",
              "    <tr>\n",
              "      <th>3</th>\n",
              "      <td>dance</td>\n",
              "      <td>7,542.0</td>\n",
              "      <td>40,649.0</td>\n",
              "      <td>-33,107.0</td>\n",
              "      <td>0.822</td>\n",
              "    </tr>\n",
              "    <tr>\n",
              "      <th>4</th>\n",
              "      <td>design</td>\n",
              "      <td>57,763.0</td>\n",
              "      <td>40,649.0</td>\n",
              "      <td>17,114.0</td>\n",
              "      <td>0.682</td>\n",
              "    </tr>\n",
              "    <tr>\n",
              "      <th>5</th>\n",
              "      <td>fashion</td>\n",
              "      <td>13,908.0</td>\n",
              "      <td>40,649.0</td>\n",
              "      <td>-26,741.0</td>\n",
              "      <td>0.599</td>\n",
              "    </tr>\n",
              "    <tr>\n",
              "      <th>6</th>\n",
              "      <td>film &amp; video</td>\n",
              "      <td>108,632.0</td>\n",
              "      <td>40,649.0</td>\n",
              "      <td>67,983.0</td>\n",
              "      <td>0.584</td>\n",
              "    </tr>\n",
              "    <tr>\n",
              "      <th>7</th>\n",
              "      <td>food</td>\n",
              "      <td>45,992.0</td>\n",
              "      <td>40,649.0</td>\n",
              "      <td>5,343.0</td>\n",
              "      <td>0.353</td>\n",
              "    </tr>\n",
              "    <tr>\n",
              "      <th>8</th>\n",
              "      <td>games</td>\n",
              "      <td>32,942.0</td>\n",
              "      <td>40,649.0</td>\n",
              "      <td>-7,707.0</td>\n",
              "      <td>0.657</td>\n",
              "    </tr>\n",
              "    <tr>\n",
              "      <th>9</th>\n",
              "      <td>journalism</td>\n",
              "      <td>82,463.0</td>\n",
              "      <td>40,649.0</td>\n",
              "      <td>41,814.0</td>\n",
              "      <td>0.312</td>\n",
              "    </tr>\n",
              "    <tr>\n",
              "      <th>10</th>\n",
              "      <td>music</td>\n",
              "      <td>11,601.0</td>\n",
              "      <td>40,649.0</td>\n",
              "      <td>-29,048.0</td>\n",
              "      <td>0.667</td>\n",
              "    </tr>\n",
              "    <tr>\n",
              "      <th>11</th>\n",
              "      <td>photography</td>\n",
              "      <td>11,598.0</td>\n",
              "      <td>40,649.0</td>\n",
              "      <td>-29,051.0</td>\n",
              "      <td>0.509</td>\n",
              "    </tr>\n",
              "    <tr>\n",
              "      <th>12</th>\n",
              "      <td>publishing</td>\n",
              "      <td>12,927.0</td>\n",
              "      <td>40,649.0</td>\n",
              "      <td>-27,722.0</td>\n",
              "      <td>0.703</td>\n",
              "    </tr>\n",
              "    <tr>\n",
              "      <th>13</th>\n",
              "      <td>technology</td>\n",
              "      <td>67,425.0</td>\n",
              "      <td>40,649.0</td>\n",
              "      <td>26,776.0</td>\n",
              "      <td>0.396</td>\n",
              "    </tr>\n",
              "    <tr>\n",
              "      <th>14</th>\n",
              "      <td>theater</td>\n",
              "      <td>33,314.0</td>\n",
              "      <td>40,649.0</td>\n",
              "      <td>-7,335.0</td>\n",
              "      <td>0.712</td>\n",
              "    </tr>\n",
              "  </tbody>\n",
              "</table>\n",
              "</div>"
            ],
            "text/plain": [
              "    sub_category  goal_usd  dataset_goal_usd  diff_usd  win_pct\n",
              "0            art  31,150.0          40,649.0  -9,499.0    0.573\n",
              "1         comics   6,532.0          40,649.0 -34,117.0    0.806\n",
              "2         crafts   8,412.0          40,649.0 -32,237.0    0.488\n",
              "3          dance   7,542.0          40,649.0 -33,107.0    0.822\n",
              "4         design  57,763.0          40,649.0  17,114.0    0.682\n",
              "5        fashion  13,908.0          40,649.0 -26,741.0    0.599\n",
              "6   film & video 108,632.0          40,649.0  67,983.0    0.584\n",
              "7           food  45,992.0          40,649.0   5,343.0    0.353\n",
              "8          games  32,942.0          40,649.0  -7,707.0    0.657\n",
              "9     journalism  82,463.0          40,649.0  41,814.0    0.312\n",
              "10         music  11,601.0          40,649.0 -29,048.0    0.667\n",
              "11   photography  11,598.0          40,649.0 -29,051.0    0.509\n",
              "12    publishing  12,927.0          40,649.0 -27,722.0    0.703\n",
              "13    technology  67,425.0          40,649.0  26,776.0    0.396\n",
              "14       theater  33,314.0          40,649.0  -7,335.0    0.712"
            ]
          },
          "metadata": {
            "tags": []
          },
          "execution_count": 36
        }
      ]
    },
    {
      "cell_type": "markdown",
      "metadata": {
        "id": "ws_zBEQNO8JJ"
      },
      "source": [
        "<p>\n",
        "One can see that the farther the goal amount is under the mean goal amount for the entire dataset, as denoted \n",
        "in the 'diff_usd' column, in general the more successful the category tends to be in terms of overall success rate (win_pct).  There potentially are massive outliers skewing the absolute numbers but the pattern seems to hold.\n",
        "</p>\n"
      ]
    },
    {
      "cell_type": "markdown",
      "metadata": {
        "id": "zOIGx2A2O8JJ"
      },
      "source": [
        "## Conclusion\n",
        "___"
      ]
    },
    {
      "cell_type": "markdown",
      "metadata": {
        "id": "FkAW-as1O8JK"
      },
      "source": [
        "<p>Based on the above analysis it seems clear that a potential path for Kickstarter to pursue is to start incrementally increasing projects who's goal funding amount is less than the mean current goal amount on the platform.  These projects seem to have a higher level of success than ones who attempt to have outsized targets</p>\n"
      ]
    },
    {
      "cell_type": "markdown",
      "metadata": {
        "id": "Gi3fRrvUO8JK"
      },
      "source": [
        "### Future Work"
      ]
    },
    {
      "cell_type": "markdown",
      "metadata": {
        "id": "U7xoMlCiO8JK"
      },
      "source": [
        "<p>In the future clearly other variables should be analyzed in detail such as project duration, number of backers, and potentially using natural language processing (NLP) to analyze project descriptions to see if any of these vairables have further predictive power.\n",
        "\n",
        "In addition, machine learning models, such as Random Forest or LightGBM could be used to determine if project success is predictable better than baseline.  If so using these particular models it would be possible to extract feature importances to determine which particular variables are predictive of success.  Knowledge that Kickstarter could then use to promote projects that meet the criteria very aggressively or potentially modify the variables of other projects to increase their chances of success.</p>"
      ]
    },
    {
      "cell_type": "code",
      "metadata": {
        "id": "ryE1z4jKO8JK"
      },
      "source": [
        ""
      ],
      "execution_count": null,
      "outputs": []
    },
    {
      "cell_type": "code",
      "metadata": {
        "id": "irKayZW7O8JL"
      },
      "source": [
        ""
      ],
      "execution_count": null,
      "outputs": []
    }
  ]
}